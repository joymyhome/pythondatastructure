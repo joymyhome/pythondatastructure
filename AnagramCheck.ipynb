{
 "cells": [
  {
   "cell_type": "markdown",
   "metadata": {},
   "source": [
    "## Anagram algorithm"
   ]
  },
  {
   "cell_type": "markdown",
   "metadata": {},
   "source": [
    "An anagram is when the two strings can be written using the exact same letters(so you can just rearrange the letters to get a different phrase or word)"
   ]
  },
  {
   "cell_type": "markdown",
   "metadata": {},
   "source": [
    "思路1：\n",
    "- def 给定一个letter 和 一个word，判断这个letter是否在word中，而且出现了几次\n",
    "- main 如果A单词所有的letter都在B中出现且B的所有单词也在A中出现（且出现次数都相同），则他们是anagram\n",
    "\n",
    "思路2:\n",
    "- 将letter A进行排序（按照字母的大小）\n",
    "- 将letter B进行排序（按照字母大小）\n",
    "- 对比结果，如果一摸一样就是anagram"
   ]
  },
  {
   "cell_type": "code",
   "execution_count": 1,
   "metadata": {},
   "outputs": [],
   "source": [
    "#思路1\n",
    "def letterInWord(a, word):\n",
    "\n",
    "    counts = 0\n",
    "    for each in word:\n",
    "        if a == each:\n",
    "            counts += 1\n",
    "    return counts\n",
    "    "
   ]
  },
  {
   "cell_type": "code",
   "execution_count": 2,
   "metadata": {},
   "outputs": [],
   "source": [
    "#remove whitespace\n",
    "def removespace(word):\n",
    "    word = word.replace(' ', '')\n",
    "    return word"
   ]
  },
  {
   "cell_type": "code",
   "execution_count": 3,
   "metadata": {},
   "outputs": [],
   "source": [
    "def isAnagram(word1, word2):\n",
    "    word1 = removespace(word1)\n",
    "    word2 = removespace(word2)\n",
    "    countsinword1 = []\n",
    "    countsinword2 = []\n",
    "    for each in word1:\n",
    "        count1 = letterInWord(each, word1)\n",
    "        count2 = letterInWord(each, word2)\n",
    "        countsinword1.append(count1)\n",
    "        countsinword2.append(count2)\n",
    "    if countsinword1 == countsinword2:\n",
    "        return True\n",
    "    else:\n",
    "        return False"
   ]
  },
  {
   "cell_type": "code",
   "execution_count": 6,
   "metadata": {},
   "outputs": [
    {
     "data": {
      "text/plain": [
       "True"
      ]
     },
     "execution_count": 6,
     "metadata": {},
     "output_type": "execute_result"
    }
   ],
   "source": [
    "isAnagram('public relations','crap built on lies')"
   ]
  },
  {
   "cell_type": "code",
   "execution_count": 7,
   "metadata": {},
   "outputs": [
    {
     "data": {
      "text/plain": [
       "True"
      ]
     },
     "execution_count": 7,
     "metadata": {},
     "output_type": "execute_result"
    }
   ],
   "source": [
    "isAnagram('clint eastwood', 'old west action')"
   ]
  },
  {
   "cell_type": "code",
   "execution_count": null,
   "metadata": {},
   "outputs": [],
   "source": []
  }
 ],
 "metadata": {
  "kernelspec": {
   "display_name": "Python 3",
   "language": "python",
   "name": "python3"
  },
  "language_info": {
   "codemirror_mode": {
    "name": "ipython",
    "version": 3
   },
   "file_extension": ".py",
   "mimetype": "text/x-python",
   "name": "python",
   "nbconvert_exporter": "python",
   "pygments_lexer": "ipython3",
   "version": "3.6.0"
  }
 },
 "nbformat": 4,
 "nbformat_minor": 2
}
