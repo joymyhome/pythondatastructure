{
 "cells": [
  {
   "cell_type": "markdown",
   "metadata": {},
   "source": [
    "## Pair_sum function"
   ]
  },
  {
   "cell_type": "markdown",
   "metadata": {},
   "source": [
    "### Problem"
   ]
  },
  {
   "cell_type": "markdown",
   "metadata": {},
   "source": [
    "Given an interger array, output all the **uniqle** pairs that sum up to a specific value **k**\n",
    "\n",
    "So the input:\n",
    " \n",
    "pair_sum([1, 3, 2, 2], 4)\n",
    "\n",
    "would return **2** pairs:\n",
    "\n",
    "(1, 3)\n",
    "(2, 2)"
   ]
  },
  {
   "cell_type": "markdown",
   "metadata": {},
   "source": [
    "思路1：\n",
    "找到所有的pair，删除掉重复的\n",
    "\n",
    "思路2:\n",
    "从开始找pair，后面的如果有跟之前相同的，就跳过"
   ]
  },
  {
   "cell_type": "code",
   "execution_count": 9,
   "metadata": {},
   "outputs": [],
   "source": [
    "#using 思路2\n",
    "def pair_sum(lst, value):  #这个办法的时间是O(n^2) due to the nested for loops\n",
    "    pairs = []\n",
    "    for i in range(len(lst)):\n",
    "        j = i + 1;\n",
    "        for each in lst[j:]:\n",
    "            if (lst[i] + each) == value and (lst[i], each) and (each, lst[i]) not in pairs :\n",
    "                pairs.append((lst[i], each))\n",
    "    return pairs, len(pairs)"
   ]
  },
  {
   "cell_type": "code",
   "execution_count": 2,
   "metadata": {},
   "outputs": [
    {
     "data": {
      "text/plain": [
       "([(1, 2)], 1)"
      ]
     },
     "execution_count": 2,
     "metadata": {},
     "output_type": "execute_result"
    }
   ],
   "source": [
    "pair_sum([1,2,3,1], 3)"
   ]
  },
  {
   "cell_type": "code",
   "execution_count": 3,
   "metadata": {},
   "outputs": [
    {
     "data": {
      "text/plain": [
       "([(1, 3), (2, 2)], 2)"
      ]
     },
     "execution_count": 3,
     "metadata": {},
     "output_type": "execute_result"
    }
   ],
   "source": [
    "pair_sum([1,3,2,2],4)"
   ]
  },
  {
   "cell_type": "code",
   "execution_count": 4,
   "metadata": {},
   "outputs": [
    {
     "data": {
      "text/plain": [
       "([(1, 9), (2, 8), (3, 7), (4, 6), (5, 5), (11, -1)], 6)"
      ]
     },
     "execution_count": 4,
     "metadata": {},
     "output_type": "execute_result"
    }
   ],
   "source": [
    "pair_sum([1,9,2,8,3,7,4,6,5,5,13,14,11,13,-1],10)"
   ]
  },
  {
   "cell_type": "code",
   "execution_count": 8,
   "metadata": {},
   "outputs": [],
   "source": [
    "# solution\n",
    "def pair_sum2(arr, k):\n",
    "    \n",
    "    if len(arr)<2:\n",
    "        return \n",
    "    \n",
    "    # Sets for tracking\n",
    "    seen = set() #a set for tracking, a good strategy\n",
    "    output = set()  #这里用set是因为elements in set are unique.\n",
    "                    #所以不懂担心duplicated elements\n",
    "    \n",
    "    for num in arr:\n",
    "        \n",
    "        target = k - num\n",
    "        \n",
    "        if target not in seen:\n",
    "            seen.add(num)\n",
    "            \n",
    "        else:\n",
    "            output.add((min(num, target), max(num, target)) )\n",
    "            \n",
    "    return len(output)\n"
   ]
  },
  {
   "cell_type": "code",
   "execution_count": 6,
   "metadata": {},
   "outputs": [
    {
     "data": {
      "text/plain": [
       "2"
      ]
     },
     "execution_count": 6,
     "metadata": {},
     "output_type": "execute_result"
    }
   ],
   "source": [
    "pair_sum2([1, 3, 3, 2, 2], 4)"
   ]
  },
  {
   "cell_type": "code",
   "execution_count": null,
   "metadata": {},
   "outputs": [],
   "source": []
  }
 ],
 "metadata": {
  "kernelspec": {
   "display_name": "Python 3",
   "language": "python",
   "name": "python3"
  },
  "language_info": {
   "codemirror_mode": {
    "name": "ipython",
    "version": 3
   },
   "file_extension": ".py",
   "mimetype": "text/x-python",
   "name": "python",
   "nbconvert_exporter": "python",
   "pygments_lexer": "ipython3",
   "version": "3.6.0"
  }
 },
 "nbformat": 4,
 "nbformat_minor": 2
}
